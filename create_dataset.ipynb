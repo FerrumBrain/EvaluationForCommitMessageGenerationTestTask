{
  "cells": [
    {
      "cell_type": "code",
      "execution_count": null,
      "metadata": {
        "id": "rSuqsK-wRnTf"
      },
      "outputs": [],
      "source": [
        "import pandas as pd\n",
        "import numpy as np"
      ]
    },
    {
      "cell_type": "code",
      "execution_count": null,
      "metadata": {
        "id": "7b1pewctHxQY"
      },
      "outputs": [],
      "source": [
        "path_to_read = '/content/drive/MyDrive/bot-nonbot-msgs.txt' # I strored dataset on my Google Drive, if you use another path, change this variable\n",
        "data = []\n",
        "number_of_bot_cases = 0\n",
        "with open(path_to_read, 'r') as f1:\n",
        "  while True:\n",
        "    try:\n",
        "      line = next(f1)\n",
        "    except StopIteration:\n",
        "      break\n",
        "    except:\n",
        "      pass\n",
        "    else:\n",
        "      splitted = line.split(';')\n",
        "      if (len(splitted) < 4) or (splitted[3] not in ['BOT', 'NON-BOT']): # if splitting went wrong\n",
        "        continue\n",
        "      res = 0\n",
        "      if splitted[3] == 'BOT':\n",
        "        res = 1\n",
        "        if np.random.randint(25) != 0:\n",
        "          ''' The issue is that originally dataset contains about 13 million\n",
        "              rows but only 500'000 of them are NON-BOT => If we will use full\n",
        "              dataset we will get pretty useless model (that's the way I found\n",
        "              this numbers, because early versions of my model were giving 2%\n",
        "              accuracy on real project) '''\n",
        "          continue\n",
        "      number_of_bot_cases += res\n",
        "      data.append([splitted[2], res])"
      ]
    },
    {
      "cell_type": "code",
      "execution_count": null,
      "metadata": {
        "colab": {
          "base_uri": "https://localhost:8080/"
        },
        "id": "iz8W86DKre1r",
        "outputId": "10881bac-f136-46b7-a723-4b27fbeade14"
      },
      "outputs": [
        {
          "output_type": "stream",
          "name": "stdout",
          "text": [
            "514762 1036517\n"
          ]
        }
      ],
      "source": [
        "print(number_of_bot_cases, len(data))"
      ]
    },
    {
      "cell_type": "code",
      "execution_count": null,
      "metadata": {
        "id": "9eGKTuxvRox1"
      },
      "outputs": [],
      "source": [
        "df = pd.DataFrame(data)\n",
        "df.sample(frac=1)\n",
        "train, validate, test = np.split(df.sample(frac=1), [int(.6*len(df)), int(.8*len(df))])"
      ]
    },
    {
      "cell_type": "code",
      "execution_count": null,
      "metadata": {
        "id": "sExz1MSaR1jQ"
      },
      "outputs": [],
      "source": [
        "dir = '/content/drive/MyDrive/' # if you are using something else than collab, change this as well\n",
        "train_file_name = dir + 'train.csv'\n",
        "validate_file_name = dir + 'validate.csv'\n",
        "test_file_name = dir + 'test.csv'\n",
        "\n",
        "train.to_csv(train_file_name, encoding='utf-8')\n",
        "validate.to_csv(validate_file_name, encoding='utf-8')\n",
        "test.to_csv(test_file_name, encoding='utf-8')"
      ]
    }
  ],
  "metadata": {
    "colab": {
      "provenance": []
    },
    "kernelspec": {
      "display_name": "Python 3",
      "name": "python3"
    },
    "language_info": {
      "name": "python"
    }
  },
  "nbformat": 4,
  "nbformat_minor": 0
}